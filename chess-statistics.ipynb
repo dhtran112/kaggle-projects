{
 "cells": [
  {
   "cell_type": "code",
   "execution_count": 1,
   "id": "2c1884c5",
   "metadata": {
    "execution": {
     "iopub.execute_input": "2022-11-08T23:25:18.558984Z",
     "iopub.status.busy": "2022-11-08T23:25:18.558051Z",
     "iopub.status.idle": "2022-11-08T23:25:18.571322Z",
     "shell.execute_reply": "2022-11-08T23:25:18.570136Z"
    },
    "papermill": {
     "duration": 0.022327,
     "end_time": "2022-11-08T23:25:18.574457",
     "exception": false,
     "start_time": "2022-11-08T23:25:18.552130",
     "status": "completed"
    },
    "tags": []
   },
   "outputs": [],
   "source": [
    "import pandas as pd\n",
    "import numpy as np\n",
    "import matplotlib.pyplot as plt"
   ]
  },
  {
   "cell_type": "code",
   "execution_count": 2,
   "id": "dd8a7dfa",
   "metadata": {
    "execution": {
     "iopub.execute_input": "2022-11-08T23:25:18.581939Z",
     "iopub.status.busy": "2022-11-08T23:25:18.581285Z",
     "iopub.status.idle": "2022-11-08T23:25:18.849263Z",
     "shell.execute_reply": "2022-11-08T23:25:18.848166Z"
    },
    "papermill": {
     "duration": 0.275526,
     "end_time": "2022-11-08T23:25:18.852863",
     "exception": false,
     "start_time": "2022-11-08T23:25:18.577337",
     "status": "completed"
    },
    "tags": []
   },
   "outputs": [
    {
     "data": {
      "text/html": [
       "<div>\n",
       "<style scoped>\n",
       "    .dataframe tbody tr th:only-of-type {\n",
       "        vertical-align: middle;\n",
       "    }\n",
       "\n",
       "    .dataframe tbody tr th {\n",
       "        vertical-align: top;\n",
       "    }\n",
       "\n",
       "    .dataframe thead th {\n",
       "        text-align: right;\n",
       "    }\n",
       "</style>\n",
       "<table border=\"1\" class=\"dataframe\">\n",
       "  <thead>\n",
       "    <tr style=\"text-align: right;\">\n",
       "      <th></th>\n",
       "      <th>id</th>\n",
       "      <th>rated</th>\n",
       "      <th>created_at</th>\n",
       "      <th>last_move_at</th>\n",
       "      <th>turns</th>\n",
       "      <th>victory_status</th>\n",
       "      <th>winner</th>\n",
       "      <th>increment_code</th>\n",
       "      <th>white_id</th>\n",
       "      <th>white_rating</th>\n",
       "      <th>black_id</th>\n",
       "      <th>black_rating</th>\n",
       "      <th>moves</th>\n",
       "      <th>opening_eco</th>\n",
       "      <th>opening_name</th>\n",
       "      <th>opening_ply</th>\n",
       "    </tr>\n",
       "  </thead>\n",
       "  <tbody>\n",
       "    <tr>\n",
       "      <th>0</th>\n",
       "      <td>TZJHLljE</td>\n",
       "      <td>False</td>\n",
       "      <td>1.504210e+12</td>\n",
       "      <td>1.504210e+12</td>\n",
       "      <td>13</td>\n",
       "      <td>outoftime</td>\n",
       "      <td>white</td>\n",
       "      <td>15+2</td>\n",
       "      <td>bourgris</td>\n",
       "      <td>1500</td>\n",
       "      <td>a-00</td>\n",
       "      <td>1191</td>\n",
       "      <td>d4 d5 c4 c6 cxd5 e6 dxe6 fxe6 Nf3 Bb4+ Nc3 Ba5...</td>\n",
       "      <td>D10</td>\n",
       "      <td>Slav Defense: Exchange Variation</td>\n",
       "      <td>5</td>\n",
       "    </tr>\n",
       "    <tr>\n",
       "      <th>1</th>\n",
       "      <td>l1NXvwaE</td>\n",
       "      <td>True</td>\n",
       "      <td>1.504130e+12</td>\n",
       "      <td>1.504130e+12</td>\n",
       "      <td>16</td>\n",
       "      <td>resign</td>\n",
       "      <td>black</td>\n",
       "      <td>5+10</td>\n",
       "      <td>a-00</td>\n",
       "      <td>1322</td>\n",
       "      <td>skinnerua</td>\n",
       "      <td>1261</td>\n",
       "      <td>d4 Nc6 e4 e5 f4 f6 dxe5 fxe5 fxe5 Nxe5 Qd4 Nc6...</td>\n",
       "      <td>B00</td>\n",
       "      <td>Nimzowitsch Defense: Kennedy Variation</td>\n",
       "      <td>4</td>\n",
       "    </tr>\n",
       "    <tr>\n",
       "      <th>2</th>\n",
       "      <td>mIICvQHh</td>\n",
       "      <td>True</td>\n",
       "      <td>1.504130e+12</td>\n",
       "      <td>1.504130e+12</td>\n",
       "      <td>61</td>\n",
       "      <td>mate</td>\n",
       "      <td>white</td>\n",
       "      <td>5+10</td>\n",
       "      <td>ischia</td>\n",
       "      <td>1496</td>\n",
       "      <td>a-00</td>\n",
       "      <td>1500</td>\n",
       "      <td>e4 e5 d3 d6 Be3 c6 Be2 b5 Nd2 a5 a4 c5 axb5 Nc...</td>\n",
       "      <td>C20</td>\n",
       "      <td>King's Pawn Game: Leonardis Variation</td>\n",
       "      <td>3</td>\n",
       "    </tr>\n",
       "    <tr>\n",
       "      <th>3</th>\n",
       "      <td>kWKvrqYL</td>\n",
       "      <td>True</td>\n",
       "      <td>1.504110e+12</td>\n",
       "      <td>1.504110e+12</td>\n",
       "      <td>61</td>\n",
       "      <td>mate</td>\n",
       "      <td>white</td>\n",
       "      <td>20+0</td>\n",
       "      <td>daniamurashov</td>\n",
       "      <td>1439</td>\n",
       "      <td>adivanov2009</td>\n",
       "      <td>1454</td>\n",
       "      <td>d4 d5 Nf3 Bf5 Nc3 Nf6 Bf4 Ng4 e3 Nc6 Be2 Qd7 O...</td>\n",
       "      <td>D02</td>\n",
       "      <td>Queen's Pawn Game: Zukertort Variation</td>\n",
       "      <td>3</td>\n",
       "    </tr>\n",
       "    <tr>\n",
       "      <th>4</th>\n",
       "      <td>9tXo1AUZ</td>\n",
       "      <td>True</td>\n",
       "      <td>1.504030e+12</td>\n",
       "      <td>1.504030e+12</td>\n",
       "      <td>95</td>\n",
       "      <td>mate</td>\n",
       "      <td>white</td>\n",
       "      <td>30+3</td>\n",
       "      <td>nik221107</td>\n",
       "      <td>1523</td>\n",
       "      <td>adivanov2009</td>\n",
       "      <td>1469</td>\n",
       "      <td>e4 e5 Nf3 d6 d4 Nc6 d5 Nb4 a3 Na6 Nc3 Be7 b4 N...</td>\n",
       "      <td>C41</td>\n",
       "      <td>Philidor Defense</td>\n",
       "      <td>5</td>\n",
       "    </tr>\n",
       "  </tbody>\n",
       "</table>\n",
       "</div>"
      ],
      "text/plain": [
       "         id  rated    created_at  last_move_at  turns victory_status winner  \\\n",
       "0  TZJHLljE  False  1.504210e+12  1.504210e+12     13      outoftime  white   \n",
       "1  l1NXvwaE   True  1.504130e+12  1.504130e+12     16         resign  black   \n",
       "2  mIICvQHh   True  1.504130e+12  1.504130e+12     61           mate  white   \n",
       "3  kWKvrqYL   True  1.504110e+12  1.504110e+12     61           mate  white   \n",
       "4  9tXo1AUZ   True  1.504030e+12  1.504030e+12     95           mate  white   \n",
       "\n",
       "  increment_code       white_id  white_rating      black_id  black_rating  \\\n",
       "0           15+2       bourgris          1500          a-00          1191   \n",
       "1           5+10           a-00          1322     skinnerua          1261   \n",
       "2           5+10         ischia          1496          a-00          1500   \n",
       "3           20+0  daniamurashov          1439  adivanov2009          1454   \n",
       "4           30+3      nik221107          1523  adivanov2009          1469   \n",
       "\n",
       "                                               moves opening_eco  \\\n",
       "0  d4 d5 c4 c6 cxd5 e6 dxe6 fxe6 Nf3 Bb4+ Nc3 Ba5...         D10   \n",
       "1  d4 Nc6 e4 e5 f4 f6 dxe5 fxe5 fxe5 Nxe5 Qd4 Nc6...         B00   \n",
       "2  e4 e5 d3 d6 Be3 c6 Be2 b5 Nd2 a5 a4 c5 axb5 Nc...         C20   \n",
       "3  d4 d5 Nf3 Bf5 Nc3 Nf6 Bf4 Ng4 e3 Nc6 Be2 Qd7 O...         D02   \n",
       "4  e4 e5 Nf3 d6 d4 Nc6 d5 Nb4 a3 Na6 Nc3 Be7 b4 N...         C41   \n",
       "\n",
       "                             opening_name  opening_ply  \n",
       "0        Slav Defense: Exchange Variation            5  \n",
       "1  Nimzowitsch Defense: Kennedy Variation            4  \n",
       "2   King's Pawn Game: Leonardis Variation            3  \n",
       "3  Queen's Pawn Game: Zukertort Variation            3  \n",
       "4                        Philidor Defense            5  "
      ]
     },
     "execution_count": 2,
     "metadata": {},
     "output_type": "execute_result"
    }
   ],
   "source": [
    "#Read file and see contents\n",
    "chess = pd.read_csv('../input/chess/games.csv')\n",
    "chess.head(5)"
   ]
  },
  {
   "cell_type": "code",
   "execution_count": 3,
   "id": "fcf83bce",
   "metadata": {
    "execution": {
     "iopub.execute_input": "2022-11-08T23:25:18.860755Z",
     "iopub.status.busy": "2022-11-08T23:25:18.860326Z",
     "iopub.status.idle": "2022-11-08T23:25:19.119113Z",
     "shell.execute_reply": "2022-11-08T23:25:19.117753Z"
    },
    "papermill": {
     "duration": 0.265781,
     "end_time": "2022-11-08T23:25:19.121775",
     "exception": false,
     "start_time": "2022-11-08T23:25:18.855994",
     "status": "completed"
    },
    "tags": []
   },
   "outputs": [
    {
     "data": {
      "text/plain": [
       "<function matplotlib.pyplot.show(close=None, block=None)>"
      ]
     },
     "execution_count": 3,
     "metadata": {},
     "output_type": "execute_result"
    },
    {
     "data": {
      "image/png": "[encoded data removed]",
      "text/plain": [
       "<Figure size 432x288 with 1 Axes>"
      ]
     },
     "metadata": {
      "needs_background": "light"
     },
     "output_type": "display_data"
    }
   ],
   "source": [
    "#Bar Graph showing percentages of white wins versus black wins\n",
    "\n",
    "#Find out how many total white wins/black wins/draws there are\n",
    "totalwins = (chess['winner'].value_counts()['white'] + \n",
    "             chess['winner'].value_counts()['black'] + \n",
    "             chess['winner'].value_counts()['draw'])\n",
    "\n",
    "#Make a dataframe for a bar graph\n",
    "wins = {'White':chess['winner'].value_counts()['white'] / totalwins * 100,\n",
    "        'Black':chess['winner'].value_counts()['black'] / totalwins * 100,\n",
    "        'Draw':chess['winner'].value_counts()['draw'] / totalwins * 100}\n",
    "\n",
    "#Create the bar graph\n",
    "color = list(wins.keys())\n",
    "winvalues = list(wins.values())\n",
    "\n",
    "winsbar = plt.figure()\n",
    "plt.bar(color,winvalues)\n",
    "plt.xlabel(\"Player Side\")\n",
    "plt.ylabel(\"Percentages of Occurances\")\n",
    "plt.title(\"Wins/Draws Depending on Player Side\")\n",
    "plt.show"
   ]
  },
  {
   "cell_type": "code",
   "execution_count": 4,
   "id": "ac50e536",
   "metadata": {
    "execution": {
     "iopub.execute_input": "2022-11-08T23:25:19.130747Z",
     "iopub.status.busy": "2022-11-08T23:25:19.130298Z",
     "iopub.status.idle": "2022-11-08T23:25:19.516427Z",
     "shell.execute_reply": "2022-11-08T23:25:19.515120Z"
    },
    "papermill": {
     "duration": 0.39561,
     "end_time": "2022-11-08T23:25:19.520868",
     "exception": false,
     "start_time": "2022-11-08T23:25:19.125258",
     "status": "completed"
    },
    "tags": []
   },
   "outputs": [
    {
     "data": {
      "text/plain": [
       "<function matplotlib.pyplot.show(close=None, block=None)>"
      ]
     },
     "execution_count": 4,
     "metadata": {},
     "output_type": "execute_result"
    },
    {
     "data": {
      "image/png": "[encoded data removed]",
      "text/plain": [
       "<Figure size 432x288 with 1 Axes>"
      ]
     },
     "metadata": {
      "needs_background": "light"
     },
     "output_type": "display_data"
    }
   ],
   "source": [
    "#Percentage composition bar graph labeling ELO rating and win percentages\n",
    "\n",
    "#Separate each game based on ELO (has duplicates)\n",
    "#b is beginner, i is intermediate, and a is advanced\n",
    "chessbdupe = chess.loc[((chess['white_rating'] >= 0) & (chess['white_rating'] < 1400) & (chess['rated'] == 1)) \n",
    "                          | ((chess['black_rating'] >= 0) & (chess['black_rating'] < 1400) & (chess['rated'] == 1))]\n",
    "\n",
    "chessidupe = chess.loc[((chess['white_rating'] >= 1400) & (chess['white_rating'] < 2000) & (chess['rated'] == 1)) \n",
    "                           | ((chess['black_rating'] >= 1400) & (chess['black_rating'] < 2000) & (chess['rated'] == 1))]\n",
    "\n",
    "chessadupe = chess.loc[((chess['white_rating'] >= 2000) & (chess['rated'] == 1)) \n",
    "                             | ((chess['black_rating'] >= 2000) & (chess['rated'] == 1))]\n",
    "\n",
    "\n",
    "\n",
    "#Remove duplicates\n",
    "chessb = chessbdupe.drop_duplicates()\n",
    "chessi = chessidupe.drop_duplicates()\n",
    "chessa = chessadupe.drop_duplicates()\n",
    "\n",
    "#Find out total games for each section\n",
    "totalb = (chessb['winner'].value_counts()['white'] + \n",
    "             chessb['winner'].value_counts()['black'] + \n",
    "             chessb['winner'].value_counts()['draw'])\n",
    "        \n",
    "totali = (chessi['winner'].value_counts()['white'] + \n",
    "             chessi['winner'].value_counts()['black'] + \n",
    "             chessi['winner'].value_counts()['draw'])\n",
    "\n",
    "totala = (chessa['winner'].value_counts()['white'] + \n",
    "             chessa['winner'].value_counts()['black'] + \n",
    "             chessa['winner'].value_counts()['draw'])\n",
    "\n",
    "#Creating the stacked bar graph\n",
    "x = ['Beginner', 'Intermediate', 'Advanced']\n",
    "y1 = np.array([(chessb['winner'].value_counts()['white'] / totalb * 100),\n",
    "      (chessi['winner'].value_counts()['white'] / totali * 100),\n",
    "      (chessa['winner'].value_counts()['white'] / totala * 100)])\n",
    "y2 = np.array([(chessb['winner'].value_counts()['black'] / totalb * 100),\n",
    "      (chessi['winner'].value_counts()['black'] / totali * 100),\n",
    "      (chessa['winner'].value_counts()['black'] / totala * 100)])\n",
    "y3 = np.array([(chessb['winner'].value_counts()['draw'] / totalb * 100),\n",
    "      (chessi['winner'].value_counts()['draw'] / totali * 100),\n",
    "      (chessa['winner'].value_counts()['draw'] / totala * 100)])\n",
    "\n",
    "plt.bar(x, y1)\n",
    "plt.bar(x, y2, bottom = y1)\n",
    "plt.bar(x, y3, bottom = y1 + y2)\n",
    "plt.xlabel(\"ELO Rating\")\n",
    "plt.ylabel(\"Percentage of Occurances\")\n",
    "plt.legend([\"White Win\",\"Black Win\",\"Draw\"])\n",
    "plt.title(\"ELO Rating Separation Win/Draw Percentages\")\n",
    "plt.show"
   ]
  },
  {
   "cell_type": "code",
   "execution_count": 5,
   "id": "266cc36f",
   "metadata": {
    "execution": {
     "iopub.execute_input": "2022-11-08T23:25:19.531828Z",
     "iopub.status.busy": "2022-11-08T23:25:19.531358Z",
     "iopub.status.idle": "2022-11-08T23:25:19.808615Z",
     "shell.execute_reply": "2022-11-08T23:25:19.807626Z"
    },
    "papermill": {
     "duration": 0.286493,
     "end_time": "2022-11-08T23:25:19.811548",
     "exception": false,
     "start_time": "2022-11-08T23:25:19.525055",
     "status": "completed"
    },
    "tags": []
   },
   "outputs": [
    {
     "data": {
      "text/plain": [
       "<function matplotlib.pyplot.show(close=None, block=None)>"
      ]
     },
     "execution_count": 5,
     "metadata": {},
     "output_type": "execute_result"
    },
    {
     "data": {
      "image/png": "[encoded data removed]",
      "text/plain": [
       "<Figure size 432x288 with 1 Axes>"
      ]
     },
     "metadata": {
      "needs_background": "light"
     },
     "output_type": "display_data"
    }
   ],
   "source": [
    "#Multiple Bar Chart detailing percentage of higher rated wins\n",
    "\n",
    "#Filter games where white rating is higher or black rating is higher\n",
    "chessbwhite = chessb.loc[chessb['white_rating'] > chessb['black_rating']]\n",
    "chessbblack = chessb.loc[chessb['black_rating'] > chessb['white_rating']]\n",
    "\n",
    "chessiwhite = chessi.loc[chessi['white_rating'] > chessi['black_rating']]\n",
    "chessiblack = chessi.loc[chessi['black_rating'] > chessi['white_rating']]\n",
    "\n",
    "chessawhite = chessa.loc[chessa['white_rating'] > chessa['black_rating']]\n",
    "chessablack = chessa.loc[chessa['black_rating'] > chessa['white_rating']]\n",
    "\n",
    "#Create the multiple bar chart\n",
    "ywhite = np.array([(chessbwhite['winner'].value_counts()['white'] / chessbwhite.shape[0] * 100),\n",
    "      (chessiwhite['winner'].value_counts()['white'] / chessiwhite.shape[0] * 100),\n",
    "      (chessawhite['winner'].value_counts()['white'] / chessawhite.shape[0] * 100)])\n",
    "zblack = np.array([(chessbblack['winner'].value_counts()['black'] / chessbblack.shape[0] * 100),\n",
    "      (chessiblack['winner'].value_counts()['black'] / chessiblack.shape[0] * 100),\n",
    "      (chessablack['winner'].value_counts()['black'] / chessablack.shape[0] * 100)])\n",
    "\n",
    "x_axis = np.arange(len(x))\n",
    "\n",
    "plt.bar(x_axis - 0.2, ywhite, 0.4, label = 'White')\n",
    "plt.bar(x_axis + 0.2, zblack, 0.4, label = 'Black')\n",
    "\n",
    "plt.xticks(x_axis, x)\n",
    "plt.xlabel(\"ELO Rating\")\n",
    "plt.ylabel(\"Percentage of Wins\")\n",
    "plt.title(\"Higher ELO Player Win Percentages\")\n",
    "plt.legend()\n",
    "plt.show"
   ]
  },
  {
   "cell_type": "code",
   "execution_count": 6,
   "id": "36c9672c",
   "metadata": {
    "execution": {
     "iopub.execute_input": "2022-11-08T23:25:19.822663Z",
     "iopub.status.busy": "2022-11-08T23:25:19.821910Z",
     "iopub.status.idle": "2022-11-08T23:25:19.995494Z",
     "shell.execute_reply": "2022-11-08T23:25:19.994683Z"
    },
    "papermill": {
     "duration": 0.182143,
     "end_time": "2022-11-08T23:25:19.998097",
     "exception": false,
     "start_time": "2022-11-08T23:25:19.815954",
     "status": "completed"
    },
    "tags": []
   },
   "outputs": [
    {
     "data": {
      "text/plain": [
       "(White_Opening_Move\n",
       " e4     10162\n",
       " d4      3740\n",
       " c4       553\n",
       " Nf3      516\n",
       " e3       345\n",
       " dtype: int64,\n",
       " Black_Opening_Move\n",
       " e5     5567\n",
       " d5     2981\n",
       " c5     2312\n",
       " e6     1775\n",
       " Nf6    1356\n",
       " dtype: int64)"
      ]
     },
     "execution_count": 6,
     "metadata": {},
     "output_type": "execute_result"
    }
   ],
   "source": [
    "#Table showing most popular opening moves\n",
    "\n",
    "#Seperate unrated games from rated games\n",
    "chessrated = chess.loc[(chess['rated'] == 1)]\n",
    "\n",
    "#Split the text from opening moves\n",
    "chessratedsplit = chessrated['moves'].str.split(' ', n=2, expand=True)\n",
    "chessopenings = chessratedsplit.drop([2], axis = 1)\n",
    "chessopenings.rename(columns={0:'White_Opening_Move', 1:'Black_Opening_Move'}, inplace=True)\n",
    "\n",
    "#Aggregate opening moves\n",
    "whiteopeningtable = pd.pivot_table(chessopenings, columns=['White_Opening_Move'], aggfunc='size')\n",
    "blackopeningtable = pd.pivot_table(chessopenings, columns=['Black_Opening_Move'], aggfunc='size')\n",
    "\n",
    "#Get top 5 opening moves\n",
    "popularwhite = whiteopeningtable.nlargest(5)\n",
    "popularblack = blackopeningtable.nlargest(5)\n",
    "\n",
    "popularwhite, popularblack"
   ]
  }
 ],
 "metadata": {
  "kernelspec": {
   "display_name": "Python 3",
   "language": "python",
   "name": "python3"
  },
  "language_info": {
   "codemirror_mode": {
    "name": "ipython",
    "version": 3
   },
   "file_extension": ".py",
   "mimetype": "text/x-python",
   "name": "python",
   "nbconvert_exporter": "python",
   "pygments_lexer": "ipython3",
   "version": "3.7.12"
  },
  "papermill": {
   "default_parameters": {},
   "duration": 12.227112,
   "end_time": "2022-11-08T23:25:20.725975",
   "environment_variables": {},
   "exception": null,
   "input_path": "__notebook__.ipynb",
   "output_path": "__notebook__.ipynb",
   "parameters": {},
   "start_time": "2022-11-08T23:25:08.498863",
   "version": "2.3.4"
  }
 },
 "nbformat": 4,
 "nbformat_minor": 5
}
