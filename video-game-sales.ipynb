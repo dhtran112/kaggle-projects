{
 "cells": [
  {
   "cell_type": "code",
   "execution_count": 1,
   "id": "fbab6d0d",
   "metadata": {
    "_cell_guid": "b1076dfc-b9ad-4769-8c92-a6c4dae69d19",
    "_uuid": "8f2839f25d086af736a60e9eeb907d3b93b6e0e5",
    "execution": {
     "iopub.execute_input": "2022-11-11T22:41:56.023221Z",
     "iopub.status.busy": "2022-11-11T22:41:56.021619Z",
     "iopub.status.idle": "2022-11-11T22:41:56.037061Z",
     "shell.execute_reply": "2022-11-11T22:41:56.035523Z"
    },
    "papermill": {
     "duration": 0.025017,
     "end_time": "2022-11-11T22:41:56.040436",
     "exception": false,
     "start_time": "2022-11-11T22:41:56.015419",
     "status": "completed"
    },
    "tags": []
   },
   "outputs": [],
   "source": [
    "import numpy as np\n",
    "import pandas as pd\n",
    "import matplotlib.pyplot as plt"
   ]
  },
  {
   "cell_type": "code",
   "execution_count": 2,
   "id": "49654ae3",
   "metadata": {
    "execution": {
     "iopub.execute_input": "2022-11-11T22:41:56.049055Z",
     "iopub.status.busy": "2022-11-11T22:41:56.048621Z",
     "iopub.status.idle": "2022-11-11T22:41:56.165624Z",
     "shell.execute_reply": "2022-11-11T22:41:56.164150Z"
    },
    "papermill": {
     "duration": 0.12522,
     "end_time": "2022-11-11T22:41:56.169010",
     "exception": false,
     "start_time": "2022-11-11T22:41:56.043790",
     "status": "completed"
    },
    "tags": []
   },
   "outputs": [
    {
     "data": {
      "text/html": [
       "<div>\n",
       "<style scoped>\n",
       "    .dataframe tbody tr th:only-of-type {\n",
       "        vertical-align: middle;\n",
       "    }\n",
       "\n",
       "    .dataframe tbody tr th {\n",
       "        vertical-align: top;\n",
       "    }\n",
       "\n",
       "    .dataframe thead th {\n",
       "        text-align: right;\n",
       "    }\n",
       "</style>\n",
       "<table border=\"1\" class=\"dataframe\">\n",
       "  <thead>\n",
       "    <tr style=\"text-align: right;\">\n",
       "      <th></th>\n",
       "      <th>Rank</th>\n",
       "      <th>Name</th>\n",
       "      <th>Platform</th>\n",
       "      <th>Year</th>\n",
       "      <th>Genre</th>\n",
       "      <th>Publisher</th>\n",
       "      <th>NA_Sales</th>\n",
       "      <th>EU_Sales</th>\n",
       "      <th>JP_Sales</th>\n",
       "      <th>Other_Sales</th>\n",
       "      <th>Global_Sales</th>\n",
       "    </tr>\n",
       "  </thead>\n",
       "  <tbody>\n",
       "    <tr>\n",
       "      <th>0</th>\n",
       "      <td>1</td>\n",
       "      <td>Wii Sports</td>\n",
       "      <td>Wii</td>\n",
       "      <td>2006.0</td>\n",
       "      <td>Sports</td>\n",
       "      <td>Nintendo</td>\n",
       "      <td>41.49</td>\n",
       "      <td>29.02</td>\n",
       "      <td>3.77</td>\n",
       "      <td>8.46</td>\n",
       "      <td>82.74</td>\n",
       "    </tr>\n",
       "    <tr>\n",
       "      <th>1</th>\n",
       "      <td>2</td>\n",
       "      <td>Super Mario Bros.</td>\n",
       "      <td>NES</td>\n",
       "      <td>1985.0</td>\n",
       "      <td>Platform</td>\n",
       "      <td>Nintendo</td>\n",
       "      <td>29.08</td>\n",
       "      <td>3.58</td>\n",
       "      <td>6.81</td>\n",
       "      <td>0.77</td>\n",
       "      <td>40.24</td>\n",
       "    </tr>\n",
       "    <tr>\n",
       "      <th>2</th>\n",
       "      <td>3</td>\n",
       "      <td>Mario Kart Wii</td>\n",
       "      <td>Wii</td>\n",
       "      <td>2008.0</td>\n",
       "      <td>Racing</td>\n",
       "      <td>Nintendo</td>\n",
       "      <td>15.85</td>\n",
       "      <td>12.88</td>\n",
       "      <td>3.79</td>\n",
       "      <td>3.31</td>\n",
       "      <td>35.82</td>\n",
       "    </tr>\n",
       "    <tr>\n",
       "      <th>3</th>\n",
       "      <td>4</td>\n",
       "      <td>Wii Sports Resort</td>\n",
       "      <td>Wii</td>\n",
       "      <td>2009.0</td>\n",
       "      <td>Sports</td>\n",
       "      <td>Nintendo</td>\n",
       "      <td>15.75</td>\n",
       "      <td>11.01</td>\n",
       "      <td>3.28</td>\n",
       "      <td>2.96</td>\n",
       "      <td>33.00</td>\n",
       "    </tr>\n",
       "    <tr>\n",
       "      <th>4</th>\n",
       "      <td>5</td>\n",
       "      <td>Pokemon Red/Pokemon Blue</td>\n",
       "      <td>GB</td>\n",
       "      <td>1996.0</td>\n",
       "      <td>Role-Playing</td>\n",
       "      <td>Nintendo</td>\n",
       "      <td>11.27</td>\n",
       "      <td>8.89</td>\n",
       "      <td>10.22</td>\n",
       "      <td>1.00</td>\n",
       "      <td>31.37</td>\n",
       "    </tr>\n",
       "  </tbody>\n",
       "</table>\n",
       "</div>"
      ],
      "text/plain": [
       "   Rank                      Name Platform    Year         Genre Publisher  \\\n",
       "0     1                Wii Sports      Wii  2006.0        Sports  Nintendo   \n",
       "1     2         Super Mario Bros.      NES  1985.0      Platform  Nintendo   \n",
       "2     3            Mario Kart Wii      Wii  2008.0        Racing  Nintendo   \n",
       "3     4         Wii Sports Resort      Wii  2009.0        Sports  Nintendo   \n",
       "4     5  Pokemon Red/Pokemon Blue       GB  1996.0  Role-Playing  Nintendo   \n",
       "\n",
       "   NA_Sales  EU_Sales  JP_Sales  Other_Sales  Global_Sales  \n",
       "0     41.49     29.02      3.77         8.46         82.74  \n",
       "1     29.08      3.58      6.81         0.77         40.24  \n",
       "2     15.85     12.88      3.79         3.31         35.82  \n",
       "3     15.75     11.01      3.28         2.96         33.00  \n",
       "4     11.27      8.89     10.22         1.00         31.37  "
      ]
     },
     "execution_count": 2,
     "metadata": {},
     "output_type": "execute_result"
    }
   ],
   "source": [
    "#Read files and see contents\n",
    "games = pd.read_csv('../input/videogamesales/vgsales.csv')\n",
    "games.head(5)"
   ]
  },
  {
   "cell_type": "code",
   "execution_count": 3,
   "id": "13e8f7bd",
   "metadata": {
    "execution": {
     "iopub.execute_input": "2022-11-11T22:41:56.177892Z",
     "iopub.status.busy": "2022-11-11T22:41:56.177471Z",
     "iopub.status.idle": "2022-11-11T22:41:56.493876Z",
     "shell.execute_reply": "2022-11-11T22:41:56.492999Z"
    },
    "papermill": {
     "duration": 0.324196,
     "end_time": "2022-11-11T22:41:56.496654",
     "exception": false,
     "start_time": "2022-11-11T22:41:56.172458",
     "status": "completed"
    },
    "tags": []
   },
   "outputs": [
    {
     "data": {
      "text/plain": [
       "<AxesSubplot:title={'center':'Total Sales Per Region'}, xlabel='Sales', ylabel='Sales in Millions'>"
      ]
     },
     "execution_count": 3,
     "metadata": {},
     "output_type": "execute_result"
    },
    {
     "data": {
      "image/png": "[encoded data removed]",
      "text/plain": [
       "<Figure size 432x288 with 1 Axes>"
      ]
     },
     "metadata": {
      "needs_background": "light"
     },
     "output_type": "display_data"
    }
   ],
   "source": [
    "#Find out how many total sales there are in each region\n",
    "\n",
    "#Aggregate sum of each region\n",
    "games_agg = games.agg({'NA_Sales':['sum'], 'EU_Sales':['sum'], 'JP_Sales':['sum'], 'Other_Sales':['sum']})\n",
    "\n",
    "#Create the graph\n",
    "games_agg.plot(kind='bar', title ='Total Sales Per Region', ylabel='Sales in Millions',\n",
    "              xlabel='Sales')"
   ]
  },
  {
   "cell_type": "code",
   "execution_count": 4,
   "id": "69a9d5bb",
   "metadata": {
    "execution": {
     "iopub.execute_input": "2022-11-11T22:41:56.507036Z",
     "iopub.status.busy": "2022-11-11T22:41:56.505831Z",
     "iopub.status.idle": "2022-11-11T22:41:56.772850Z",
     "shell.execute_reply": "2022-11-11T22:41:56.771299Z"
    },
    "papermill": {
     "duration": 0.27507,
     "end_time": "2022-11-11T22:41:56.775547",
     "exception": false,
     "start_time": "2022-11-11T22:41:56.500477",
     "status": "completed"
    },
    "tags": []
   },
   "outputs": [
    {
     "data": {
      "text/plain": [
       "Text(0, 0.5, 'Sales in Millions')"
      ]
     },
     "execution_count": 4,
     "metadata": {},
     "output_type": "execute_result"
    },
    {
     "data": {
      "image/png": "[encoded data removed]",
      "text/plain": [
       "<Figure size 432x288 with 1 Axes>"
      ]
     },
     "metadata": {
      "needs_background": "light"
     },
     "output_type": "display_data"
    }
   ],
   "source": [
    "#Total Global Sales Per 5 Year\n",
    "\n",
    "games.hist(column=['Year'],bins=8)\n",
    "plt.title(\"Global Sales Over Time\")\n",
    "plt.xlabel(\"Year\")\n",
    "plt.ylabel(\"Sales in Millions\")"
   ]
  },
  {
   "cell_type": "code",
   "execution_count": 5,
   "id": "c3a57433",
   "metadata": {
    "execution": {
     "iopub.execute_input": "2022-11-11T22:41:56.786298Z",
     "iopub.status.busy": "2022-11-11T22:41:56.785490Z",
     "iopub.status.idle": "2022-11-11T22:41:57.115068Z",
     "shell.execute_reply": "2022-11-11T22:41:57.113570Z"
    },
    "papermill": {
     "duration": 0.338441,
     "end_time": "2022-11-11T22:41:57.118100",
     "exception": false,
     "start_time": "2022-11-11T22:41:56.779659",
     "status": "completed"
    },
    "tags": []
   },
   "outputs": [
    {
     "data": {
      "text/plain": [
       "<AxesSubplot:title={'center':'Trend of Sales in Each Region Over Time'}, xlabel='Year', ylabel='Sales in Millions'>"
      ]
     },
     "execution_count": 5,
     "metadata": {},
     "output_type": "execute_result"
    },
    {
     "data": {
      "image/png": "[encoded data removed]",
      "text/plain": [
       "<Figure size 432x288 with 1 Axes>"
      ]
     },
     "metadata": {
      "needs_background": "light"
     },
     "output_type": "display_data"
    }
   ],
   "source": [
    "#Trend of sales in different regions over time\n",
    "\n",
    "#Sum up each years sales per region\n",
    "games_region_ot = games.groupby(['Year']).sum(['NA_Sales'])\n",
    "games_region_ot2 = games_region_ot.drop(columns=['Rank','Global_Sales'])\n",
    "\n",
    "#Create the graph\n",
    "games_region_ot2.plot(kind='line', title='Trend of Sales in Each Region Over Time',\n",
    "                     ylabel = 'Sales in Millions')"
   ]
  },
  {
   "cell_type": "code",
   "execution_count": 6,
   "id": "4334b06f",
   "metadata": {
    "execution": {
     "iopub.execute_input": "2022-11-11T22:41:57.129701Z",
     "iopub.status.busy": "2022-11-11T22:41:57.129226Z",
     "iopub.status.idle": "2022-11-11T22:41:57.430487Z",
     "shell.execute_reply": "2022-11-11T22:41:57.429065Z"
    },
    "papermill": {
     "duration": 0.311798,
     "end_time": "2022-11-11T22:41:57.434720",
     "exception": false,
     "start_time": "2022-11-11T22:41:57.122922",
     "status": "completed"
    },
    "tags": []
   },
   "outputs": [
    {
     "data": {
      "text/plain": [
       "<AxesSubplot:title={'center':'Total Global Sales by Publisher'}, xlabel='Publisher', ylabel='Sales in Millions'>"
      ]
     },
     "execution_count": 6,
     "metadata": {},
     "output_type": "execute_result"
    },
    {
     "data": {
      "image/png": "[encoded data removed]",
      "text/plain": [
       "<Figure size 432x288 with 1 Axes>"
      ]
     },
     "metadata": {
      "needs_background": "light"
     },
     "output_type": "display_data"
    }
   ],
   "source": [
    "#Find out which company has the most sales\n",
    "\n",
    "#Sum of sales by publisher\n",
    "games_publisher = games.groupby('Publisher')['Global_Sales'].sum()\n",
    "games_publisher_top = games_publisher.nlargest(10)\n",
    "\n",
    "#Create the graph\n",
    "games_publisher_top.plot(kind='bar', title='Total Global Sales by Publisher',\n",
    "                        ylabel='Sales in Millions', xlabel='Publisher')"
   ]
  },
  {
   "cell_type": "code",
   "execution_count": 7,
   "id": "3f557977",
   "metadata": {
    "execution": {
     "iopub.execute_input": "2022-11-11T22:41:57.451745Z",
     "iopub.status.busy": "2022-11-11T22:41:57.451339Z",
     "iopub.status.idle": "2022-11-11T22:41:57.537450Z",
     "shell.execute_reply": "2022-11-11T22:41:57.535939Z"
    },
    "papermill": {
     "duration": 0.097871,
     "end_time": "2022-11-11T22:41:57.541081",
     "exception": false,
     "start_time": "2022-11-11T22:41:57.443210",
     "status": "completed"
    },
    "tags": []
   },
   "outputs": [
    {
     "data": {
      "text/html": [
       "<div>\n",
       "<style scoped>\n",
       "    .dataframe tbody tr th:only-of-type {\n",
       "        vertical-align: middle;\n",
       "    }\n",
       "\n",
       "    .dataframe tbody tr th {\n",
       "        vertical-align: top;\n",
       "    }\n",
       "\n",
       "    .dataframe thead th {\n",
       "        text-align: right;\n",
       "    }\n",
       "</style>\n",
       "<table border=\"1\" class=\"dataframe\">\n",
       "  <thead>\n",
       "    <tr style=\"text-align: right;\">\n",
       "      <th></th>\n",
       "      <th>Publisher</th>\n",
       "      <th>Name</th>\n",
       "      <th>Global_Sales</th>\n",
       "    </tr>\n",
       "  </thead>\n",
       "  <tbody>\n",
       "    <tr>\n",
       "      <th>0</th>\n",
       "      <td>Nintendo</td>\n",
       "      <td>Wii Sports</td>\n",
       "      <td>82.74</td>\n",
       "    </tr>\n",
       "    <tr>\n",
       "      <th>15</th>\n",
       "      <td>Microsoft Game Studios</td>\n",
       "      <td>Kinect Adventures!</td>\n",
       "      <td>21.82</td>\n",
       "    </tr>\n",
       "    <tr>\n",
       "      <th>16</th>\n",
       "      <td>Take-Two Interactive</td>\n",
       "      <td>Grand Theft Auto V</td>\n",
       "      <td>21.40</td>\n",
       "    </tr>\n",
       "    <tr>\n",
       "      <th>28</th>\n",
       "      <td>Sony Computer Entertainment</td>\n",
       "      <td>Gran Turismo 3: A-Spec</td>\n",
       "      <td>14.98</td>\n",
       "    </tr>\n",
       "    <tr>\n",
       "      <th>29</th>\n",
       "      <td>Activision</td>\n",
       "      <td>Call of Duty: Modern Warfare 3</td>\n",
       "      <td>14.76</td>\n",
       "    </tr>\n",
       "    <tr>\n",
       "      <th>60</th>\n",
       "      <td>Ubisoft</td>\n",
       "      <td>Just Dance 3</td>\n",
       "      <td>10.26</td>\n",
       "    </tr>\n",
       "    <tr>\n",
       "      <th>75</th>\n",
       "      <td>Bethesda Softworks</td>\n",
       "      <td>The Elder Scrolls V: Skyrim</td>\n",
       "      <td>8.84</td>\n",
       "    </tr>\n",
       "    <tr>\n",
       "      <th>77</th>\n",
       "      <td>Electronic Arts</td>\n",
       "      <td>FIFA 16</td>\n",
       "      <td>8.49</td>\n",
       "    </tr>\n",
       "    <tr>\n",
       "      <th>85</th>\n",
       "      <td>Sega</td>\n",
       "      <td>Mario &amp; Sonic at the Olympic Games</td>\n",
       "      <td>8.06</td>\n",
       "    </tr>\n",
       "    <tr>\n",
       "      <th>87</th>\n",
       "      <td>SquareSoft</td>\n",
       "      <td>Final Fantasy VIII</td>\n",
       "      <td>7.86</td>\n",
       "    </tr>\n",
       "  </tbody>\n",
       "</table>\n",
       "</div>"
      ],
      "text/plain": [
       "                      Publisher                                Name  \\\n",
       "0                      Nintendo                          Wii Sports   \n",
       "15       Microsoft Game Studios                  Kinect Adventures!   \n",
       "16         Take-Two Interactive                  Grand Theft Auto V   \n",
       "28  Sony Computer Entertainment              Gran Turismo 3: A-Spec   \n",
       "29                   Activision      Call of Duty: Modern Warfare 3   \n",
       "60                      Ubisoft                        Just Dance 3   \n",
       "75           Bethesda Softworks         The Elder Scrolls V: Skyrim   \n",
       "77              Electronic Arts                             FIFA 16   \n",
       "85                         Sega  Mario & Sonic at the Olympic Games   \n",
       "87                   SquareSoft                  Final Fantasy VIII   \n",
       "\n",
       "    Global_Sales  \n",
       "0          82.74  \n",
       "15         21.82  \n",
       "16         21.40  \n",
       "28         14.98  \n",
       "29         14.76  \n",
       "60         10.26  \n",
       "75          8.84  \n",
       "77          8.49  \n",
       "85          8.06  \n",
       "87          7.86  "
      ]
     },
     "execution_count": 7,
     "metadata": {},
     "output_type": "execute_result"
    }
   ],
   "source": [
    "#What are the most popular games from ten publishers\n",
    "\n",
    "games_top = games.loc[games.groupby(['Publisher'], sort=False)['Global_Sales'].idxmax()][['Publisher','Name','Global_Sales']]\n",
    "games_top.nlargest(10, ['Global_Sales'])"
   ]
  }
 ],
 "metadata": {
  "kernelspec": {
   "display_name": "Python 3",
   "language": "python",
   "name": "python3"
  },
  "language_info": {
   "codemirror_mode": {
    "name": "ipython",
    "version": 3
   },
   "file_extension": ".py",
   "mimetype": "text/x-python",
   "name": "python",
   "nbconvert_exporter": "python",
   "pygments_lexer": "ipython3",
   "version": "3.7.12"
  },
  "papermill": {
   "default_parameters": {},
   "duration": 11.831559,
   "end_time": "2022-11-11T22:41:58.271176",
   "environment_variables": {},
   "exception": null,
   "input_path": "__notebook__.ipynb",
   "output_path": "__notebook__.ipynb",
   "parameters": {},
   "start_time": "2022-11-11T22:41:46.439617",
   "version": "2.3.4"
  }
 },
 "nbformat": 4,
 "nbformat_minor": 5
}
